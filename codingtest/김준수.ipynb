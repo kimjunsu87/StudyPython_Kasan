{
 "cells": [
  {
   "cell_type": "markdown",
   "metadata": {},
   "source": [
    "## 1번 문제"
   ]
  },
  {
   "cell_type": "code",
   "execution_count": 1,
   "metadata": {},
   "outputs": [
    {
     "name": "stdout",
     "output_type": "stream",
     "text": [
      "반지름 10인 원의 넓이는 314.1592653589793입니다.\n"
     ]
    }
   ],
   "source": [
    "# 1번 문제\n",
    "import math\n",
    "\n",
    "radius = int(input('반지름을 입력하세요'))\n",
    "res = radius * radius * math.pi  # (radius ** 2) * math.pi\n",
    "\n",
    "print(f'반지름 {radius}인 원의 넓이는 {res}입니다.')"
   ]
  },
  {
   "cell_type": "markdown",
   "metadata": {},
   "source": [
    "## 2번 문제"
   ]
  },
  {
   "cell_type": "code",
   "execution_count": 2,
   "metadata": {},
   "outputs": [
    {
     "name": "stdout",
     "output_type": "stream",
     "text": [
      "Venus\n"
     ]
    }
   ],
   "source": [
    "# 2번 문제\n",
    "user_input = input()\n",
    "solar = {\"수성\" : 'Mercury', \"금성\" : 'Venus' ,\"지구\": 'Earth', \"화성\" : 'Mars' ,\"목성\" : 'Jupiter' ,\"토성\" : 'Saturn' ,\"천왕성\" : 'Uranus' ,\"해왕성\" : 'Neptune'}\n",
    "print(solar[user_input])"
   ]
  },
  {
   "cell_type": "markdown",
   "metadata": {},
   "source": [
    "## 3번 문제"
   ]
  },
  {
   "cell_type": "code",
   "execution_count": 29,
   "metadata": {},
   "outputs": [
    {
     "name": "stdout",
     "output_type": "stream",
     "text": [
      "1\n"
     ]
    }
   ],
   "source": [
    "user_input = input()\n",
    "l = list(user_input.split())\n",
    "print(len(l))"
   ]
  },
  {
   "cell_type": "code",
   "execution_count": 31,
   "metadata": {},
   "outputs": [
    {
     "name": "stdout",
     "output_type": "stream",
     "text": [
      "입력한 단어의 수는 2개 입니다\n"
     ]
    }
   ],
   "source": [
    "in_str = input('한글 문장을 입력하세요').split(' ')\n",
    "print(f'입력한 단어의 수는 {len(in_str)}개 입니다')"
   ]
  },
  {
   "cell_type": "markdown",
   "metadata": {},
   "source": [
    "## 4번 문제"
   ]
  },
  {
   "cell_type": "code",
   "execution_count": 34,
   "metadata": {},
   "outputs": [
    {
     "ename": "SyntaxError",
     "evalue": "invalid syntax (877499475.py, line 8)",
     "output_type": "error",
     "traceback": [
      "\u001b[1;36m  Input \u001b[1;32mIn [34]\u001b[1;36m\u001b[0m\n\u001b[1;33m    for i in_num:\u001b[0m\n\u001b[1;37m          ^\u001b[0m\n\u001b[1;31mSyntaxError\u001b[0m\u001b[1;31m:\u001b[0m invalid syntax\n"
     ]
    }
   ],
   "source": [
    "# 4번문제 예) 1 4 5 9 2 --> 2 9 5 4 1 \n",
    "in_num = input('거꾸로 출력할 수를 입력하세요>').split(' ')\n",
    "numbers = in_num\n",
    "numbers.reverse()\n",
    "\n",
    "print(f'{in_num} --> {numbers}')\n",
    "\n",
    "for i in_num:\n",
    "\tprint(i, end-' ')\n",
    "\n",
    "print('-->', end='')\n"
   ]
  },
  {
   "cell_type": "code",
   "execution_count": null,
   "metadata": {},
   "outputs": [],
   "source": []
  },
  {
   "cell_type": "code",
   "execution_count": 25,
   "metadata": {},
   "outputs": [
    {
     "name": "stdout",
     "output_type": "stream",
     "text": [
      "edcba\n"
     ]
    }
   ],
   "source": [
    "s = 'abcde'\n",
    "print(s[::-1])  "
   ]
  },
  {
   "cell_type": "code",
   "execution_count": 26,
   "metadata": {},
   "outputs": [
    {
     "name": "stdout",
     "output_type": "stream",
     "text": [
      "('e', 'd', 'c', 'b', 'a')\n"
     ]
    }
   ],
   "source": [
    "t = ('a', 'b', 'c', 'd', 'e')\n",
    "print(t[::-1]) "
   ]
  },
  {
   "cell_type": "code",
   "execution_count": 28,
   "metadata": {},
   "outputs": [
    {
     "name": "stdout",
     "output_type": "stream",
     "text": [
      "54321\n"
     ]
    }
   ],
   "source": [
    "s = int(input())\n",
    "print(int(str(s)[::-1]))\n"
   ]
  },
  {
   "cell_type": "markdown",
   "metadata": {},
   "source": [
    "## 5번 문제\n"
   ]
  },
  {
   "cell_type": "code",
   "execution_count": 35,
   "metadata": {},
   "outputs": [
    {
     "name": "stdout",
     "output_type": "stream",
     "text": [
      "2 4 6 8 10 12 14 16 18 "
     ]
    }
   ],
   "source": [
    "user_input = int(input())\n",
    "for i in range(1,10) :\n",
    "\tprint(user_input*i, end=' ')"
   ]
  },
  {
   "cell_type": "code",
   "execution_count": 36,
   "metadata": {},
   "outputs": [
    {
     "name": "stdout",
     "output_type": "stream",
     "text": [
      "3\n",
      "6\n",
      "9\n",
      "12\n",
      "15\n",
      "18\n",
      "21\n",
      "24\n",
      "27\n"
     ]
    }
   ],
   "source": [
    "# 5번문제 \n",
    "\n",
    "dan = int(input('구구단을 출력할 단을 입력하세요 >'))\n",
    "\n",
    "for i in range(1,10):\n",
    "    print(dan*i)"
   ]
  },
  {
   "cell_type": "code",
   "execution_count": 37,
   "metadata": {},
   "outputs": [
    {
     "name": "stdout",
     "output_type": "stream",
     "text": [
      "3 6 9 12 15 18 21 24 27 "
     ]
    }
   ],
   "source": [
    "# 5번문제 \n",
    "\n",
    "dan = int(input('구구단을 출력할 단을 입력하세요 >'))\n",
    "\n",
    "for i in range(1,10):\n",
    "    print(dan*i, end=' ')"
   ]
  },
  {
   "cell_type": "code",
   "execution_count": null,
   "metadata": {},
   "outputs": [],
   "source": []
  }
 ],
 "metadata": {
  "interpreter": {
   "hash": "26de051ba29f2982a8de78e945f0abaf191376122a1563185a90213a26c5da77"
  },
  "kernelspec": {
   "display_name": "Python 3.10.4 64-bit",
   "language": "python",
   "name": "python3"
  },
  "language_info": {
   "codemirror_mode": {
    "name": "ipython",
    "version": 3
   },
   "file_extension": ".py",
   "mimetype": "text/x-python",
   "name": "python",
   "nbconvert_exporter": "python",
   "pygments_lexer": "ipython3",
   "version": "3.10.4"
  },
  "orig_nbformat": 4
 },
 "nbformat": 4,
 "nbformat_minor": 2
}
